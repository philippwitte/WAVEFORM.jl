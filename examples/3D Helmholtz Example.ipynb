{
 "cells": [
  {
   "cell_type": "code",
   "execution_count": 1,
   "metadata": {
    "collapsed": true
   },
   "outputs": [],
   "source": [
    "using JOLI\n",
    "using Waveform"
   ]
  },
  {
   "cell_type": "code",
   "execution_count": null,
   "metadata": {
    "collapsed": true
   },
   "outputs": [],
   "source": [
    "n = 50*[1;1;1];\n",
    "d = 12.5*[1;1;1];\n",
    "o = 0.0*[1;1;1];\n",
    "v0 = 2000;\n",
    "freq = 4.0;\n",
    "λ = v0/freq;\n",
    "\n",
    "t0 = 0.0;\n",
    "f0 = 10.0;\n",
    "unit = \"m/s\";\n",
    "xsrc = [(n.*d)[1]/2];\n",
    "ysrc = [(n.*d)[2]/2];\n",
    "zsrc = [100.0];\n",
    "xrec = linspace(0.0,(n.*d)[1]::Float64,n[1]);\n",
    "yrec = linspace(0.0,(n.*d)[2]::Float64,n[2]);\n",
    "zrec = [100.0];\n",
    "freqs = [freq];\n",
    "nsrc = length(xsrc)*length(ysrc)*length(zsrc);\n",
    "nfreq = length(freqs)\n",
    "model = Model{Int64,Float64}(n,d,o,t0,f0,unit,freqs,xsrc,ysrc,zsrc,xrec,yrec,zrec);\n",
    "\n",
    "comp_n = n;\n",
    "comp_d = d;\n",
    "comp_o = o;\n",
    "npml = convert(Int,λ/minimum(comp_d))*ones(Int64,(2,3));\n",
    "npml = 10*ones(Int64,(2,3));\n",
    "scheme = Waveform.helm3d_operto27;\n",
    "cut_pml = true;\n",
    "implicit_matrix = true;\n",
    "srcfreqmask = trues(nsrc,nfreq);\n",
    "misfit = Waveform.least_squares;\n",
    "lsopts = LinSolveOpts(solver=:fgmres,maxit=1,maxinnerit=5,outputfreq=1);\n",
    "lsopts.precond = :mlgmres;\n",
    "opts = PDEopts{Int64,Float64}(scheme,comp_n,comp_d,comp_o,cut_pml,implicit_matrix,npml,misfit,srcfreqmask,lsopts);\n",
    "\n",
    "nλ = maximum(n.*d/λ);\n",
    "ppλ = λ/maximum(d);\n",
    "@printf(\"Number of λ %3.3f , points per λ %3.3f\",nλ,ppλ)\n",
    "v = v0*ones(Float64,n...);\n",
    "v = vec(v);\n",
    "opts.implicit_matrix = true;\n",
    "\n",
    "(H,comp_grid,T,DT_adj,P) = helmholtz_system(v,model,freq,opts);\n"
   ]
  },
  {
   "cell_type": "code",
   "execution_count": null,
   "metadata": {
    "collapsed": true
   },
   "outputs": [],
   "source": []
  },
  {
   "cell_type": "code",
   "execution_count": null,
   "metadata": {
    "collapsed": true
   },
   "outputs": [],
   "source": [
    "using MATLAB\n",
    "z = H*y;\n",
    "@matlab disp(1)\n",
    "@mput model\n",
    "@mput v\n",
    "@mput y\n",
    "@mput z\n",
    "@mput t\n",
    "@mput Pt\n",
    "eval_string(\"\n",
    "    lsopts = LinSolveOpts();\n",
    "    lsopts.tol = 1e-6;\n",
    "    lsopts.maxit = 1;\n",
    "    lsopts.maxinnerit = 5;\n",
    "    lsopts.solver = LinSolveOpts.SOLVE_FGMRES;\n",
    "    lsopts.precond = LinSolveOpts.PREC_MLGMRES;\n",
    "    model.n = vec(model.n)';\n",
    "    model.d = vec(model.d)';\n",
    "    model.o = vec(model.o)';\n",
    "    v = 2000*ones(model.n);\n",
    "    opts = struct;\n",
    "    opts.dt = model.d;\n",
    "    opts.pml = 10;\n",
    "    opts.mat_free = true;\n",
    "    opts.n_threads = 1;\n",
    "    opts.scheme = PDEopts.HELM3D_OPERTO27;\n",
    "    opts.solve_opts = lsopts;\n",
    "\")\n",
    "eval_string(\"[H,comp_grid] = discrete_helmholtz(v,model,model.freq,opts);\")\n",
    "eval_string(\"tic,Pt1=H.solve_opts.precond*t;disp(toc)\")\n",
    "eval_string(\"norm(Pt1-Pt)\")"
   ]
  }
 ],
 "metadata": {
  "kernelspec": {
   "display_name": "Julia 0.6.0",
   "language": "julia",
   "name": "julia-0.6"
  },
  "language_info": {
   "file_extension": ".jl",
   "mimetype": "application/julia",
   "name": "julia",
   "version": "0.6.0"
  }
 },
 "nbformat": 4,
 "nbformat_minor": 0
}
